{
  "nbformat": 4,
  "nbformat_minor": 0,
  "metadata": {
    "colab": {
      "provenance": [],
      "authorship_tag": "ABX9TyMTI13LOSKljpKFny+V9B/I",
      "include_colab_link": true
    },
    "kernelspec": {
      "name": "python3",
      "display_name": "Python 3"
    },
    "language_info": {
      "name": "python"
    }
  },
  "cells": [
    {
      "cell_type": "markdown",
      "metadata": {
        "id": "view-in-github",
        "colab_type": "text"
      },
      "source": [
        "<a href=\"https://colab.research.google.com/github/kakshatha-001/kakshatha-001.github.io/blob/main/Caption_generator.ipynb\" target=\"_parent\"><img src=\"https://colab.research.google.com/assets/colab-badge.svg\" alt=\"Open In Colab\"/></a>"
      ]
    },
    {
      "cell_type": "code",
      "execution_count": null,
      "metadata": {
        "colab": {
          "base_uri": "https://localhost:8080/"
        },
        "id": "StrDAbPMddss",
        "outputId": "e190e252-7330-4606-8b0e-628bf0784967"
      },
      "outputs": [
        {
          "name": "stdout",
          "output_type": "stream",
          "text": [
            "Caption for /content/room.jpg: a living room filled with furniture and a tv\n"
          ]
        }
      ],
      "source": [
        "import os\n",
        "import cv2\n",
        "import torch\n",
        "from transformers import VisionEncoderDecoderModel, ViTFeatureExtractor, AutoTokenizer\n",
        "from PIL import Image\n",
        "import numpy as np\n",
        "\n",
        "# Load pre-trained model, feature extractor, and tokenizer\n",
        "model = VisionEncoderDecoderModel.from_pretrained(\"nlpconnect/vit-gpt2-image-captioning\")\n",
        "feature_extractor = ViTFeatureExtractor.from_pretrained(\"nlpconnect/vit-gpt2-image-captioning\")\n",
        "tokenizer = AutoTokenizer.from_pretrained(\"nlpconnect/vit-gpt2-image-captioning\")\n",
        "\n",
        "device = torch.device(\"cuda\" if torch.cuda.is_available() else \"cpu\")\n",
        "model.to(device)\n",
        "\n",
        "# Set generation parameters with updated num_beams\n",
        "max_length = 25\n",
        "num_beams = 10  # Change this value to control the beam search width\n",
        "gen_kwargs = {\"max_length\": max_length, \"num_beams\": num_beams}\n",
        "\n",
        "def enhance_image(image_path):\n",
        "    # Read the image using OpenCV\n",
        "    image = cv2.imread(image_path)\n",
        "\n",
        "    if image is None:\n",
        "        print(f\"Warning: {image_path} does not exist or could not be loaded.\")\n",
        "        return None\n",
        "\n",
        "    # Convert to grayscale\n",
        "    gray = cv2.cvtColor(image, cv2.COLOR_BGR2GRAY)\n",
        "\n",
        "    # Apply histogram equalization to improve contrast\n",
        "    enhanced_gray = cv2.equalizeHist(gray)\n",
        "\n",
        "    # Convert back to BGR\n",
        "    enhanced_image = cv2.cvtColor(enhanced_gray, cv2.COLOR_GRAY2BGR)\n",
        "\n",
        "    # Convert from OpenCV BGR format to PIL RGB format\n",
        "    pil_image = Image.fromarray(cv2.cvtColor(enhanced_image, cv2.COLOR_BGR2RGB))\n",
        "    return pil_image\n",
        "\n",
        "def predict_step(image_paths):\n",
        "    images = []\n",
        "    for image_path in image_paths:\n",
        "        enhanced_image = enhance_image(image_path)\n",
        "        if enhanced_image:\n",
        "            images.append(enhanced_image)\n",
        "        else:\n",
        "            continue\n",
        "\n",
        "    if not images:\n",
        "        return []\n",
        "\n",
        "    # Extract features and generate captions\n",
        "    pixel_values = feature_extractor(images=images, return_tensors=\"pt\").pixel_values\n",
        "    pixel_values = pixel_values.to(device)\n",
        "\n",
        "    with torch.no_grad():\n",
        "        output_ids = model.generate(pixel_values, **gen_kwargs)\n",
        "\n",
        "    preds = tokenizer.batch_decode(output_ids, skip_special_tokens=True)\n",
        "    preds = [pred.strip() for pred in preds]\n",
        "    return preds\n",
        "\n",
        "# Example usage\n",
        "image_paths = ['/content/room.jpg']\n",
        "predictions = predict_step(image_paths)\n",
        "for img_path, caption in zip(image_paths, predictions):\n",
        "    print(f\"Caption for {img_path}: {caption}\")\n"
      ]
    }
  ]
}